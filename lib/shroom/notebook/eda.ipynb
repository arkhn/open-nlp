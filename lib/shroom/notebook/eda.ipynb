{
 "cells": [
  {
   "cell_type": "code",
   "execution_count": 1,
   "id": "2e69046b-4964-4d30-9697-5c1d479265c5",
   "metadata": {},
   "outputs": [],
   "source": [
    "import pandas as pd"
   ]
  },
  {
   "cell_type": "code",
   "execution_count": 2,
   "id": "1de7e22e-5931-42b0-9d74-f689f5735dbe",
   "metadata": {},
   "outputs": [
    {
     "data": {
      "text/plain": [
       "'/Users/hanh.tran/Desktop/open-nlp/lib/shroom/notebook'"
      ]
     },
     "execution_count": 2,
     "metadata": {},
     "output_type": "execute_result"
    }
   ],
   "source": [
    "pwd"
   ]
  },
  {
   "cell_type": "code",
   "execution_count": 3,
   "id": "37645203-f67b-4997-8df9-5a3ecf5e942d",
   "metadata": {},
   "outputs": [
    {
     "data": {
      "text/html": [
       "<div>\n",
       "<style scoped>\n",
       "    .dataframe tbody tr th:only-of-type {\n",
       "        vertical-align: middle;\n",
       "    }\n",
       "\n",
       "    .dataframe tbody tr th {\n",
       "        vertical-align: top;\n",
       "    }\n",
       "\n",
       "    .dataframe thead th {\n",
       "        text-align: right;\n",
       "    }\n",
       "</style>\n",
       "<table border=\"1\" class=\"dataframe\">\n",
       "  <thead>\n",
       "    <tr style=\"text-align: right;\">\n",
       "      <th></th>\n",
       "      <th>id</th>\n",
       "      <th>lang</th>\n",
       "      <th>model_input</th>\n",
       "      <th>model_output_text</th>\n",
       "      <th>model_id</th>\n",
       "      <th>soft_labels</th>\n",
       "      <th>hard_labels</th>\n",
       "    </tr>\n",
       "  </thead>\n",
       "  <tbody>\n",
       "    <tr>\n",
       "      <th>0</th>\n",
       "      <td>1</td>\n",
       "      <td>EN</td>\n",
       "      <td>When was the restoration of the Sándor Palace ...</td>\n",
       "      <td>The restoration of Sándor Palace, also known ...</td>\n",
       "      <td>TheBloke/Mistral-7B-Instruct-v0.2-GGUF</td>\n",
       "      <td>[{'start': 33, 'prob': 0.33333333330000003, 'e...</td>\n",
       "      <td>[[53, 64], [151, 164], [165, 210], [211, 225],...</td>\n",
       "    </tr>\n",
       "    <tr>\n",
       "      <th>1</th>\n",
       "      <td>3</td>\n",
       "      <td>EN</td>\n",
       "      <td>Did the Scotland team debut in the UEFA Euro 1...</td>\n",
       "      <td>Yes, Scotland made their debut in the UEFA Eu...</td>\n",
       "      <td>TheBloke/Mistral-7B-Instruct-v0.2-GGUF</td>\n",
       "      <td>[{'start': 1, 'prob': 0.6666666667000001, 'end...</td>\n",
       "      <td>[[1, 4], [49, 53], [87, 103], [232, 246], [262...</td>\n",
       "    </tr>\n",
       "    <tr>\n",
       "      <th>2</th>\n",
       "      <td>4</td>\n",
       "      <td>FR</td>\n",
       "      <td>Contre quelles équipes l'Azerbaïdjan a-t-il ét...</td>\n",
       "      <td>L'équipe d'Azerbaïdjan n'a pas participé à l'...</td>\n",
       "      <td>TheBloke/Mistral-7B-Instruct-v0.2-GGUF</td>\n",
       "      <td>[{'start': 1, 'prob': 0.33333333330000003, 'en...</td>\n",
       "      <td>[[24, 55], [60, 162], [213, 320]]</td>\n",
       "    </tr>\n",
       "    <tr>\n",
       "      <th>3</th>\n",
       "      <td>8</td>\n",
       "      <td>FR</td>\n",
       "      <td>8437 Bernicla est-il un objet transneptunien ?</td>\n",
       "      <td>8437 Bernicla est-il un objet transneptunien?\\...</td>\n",
       "      <td>meta-llama/Meta-Llama-3-8B-Instruct</td>\n",
       "      <td>[{'start': 46, 'prob': 0.33333333330000003, 'e...</td>\n",
       "      <td>[[71, 86], [90, 94], [184, 193], [269, 437], [...</td>\n",
       "    </tr>\n",
       "    <tr>\n",
       "      <th>4</th>\n",
       "      <td>9</td>\n",
       "      <td>EN</td>\n",
       "      <td>Over which state did Xiong Ai rule?</td>\n",
       "      <td>Xiong Ai was a Chinese warlord who lived duri...</td>\n",
       "      <td>TheBloke/Mistral-7B-Instruct-v0.2-GGUF</td>\n",
       "      <td>[{'start': 10, 'prob': 0.33333333330000003, 'e...</td>\n",
       "      <td>[[24, 31], [42, 48], [75, 87], [92, 123], [140...</td>\n",
       "    </tr>\n",
       "    <tr>\n",
       "      <th>5</th>\n",
       "      <td>10</td>\n",
       "      <td>ES</td>\n",
       "      <td>¿Desde cuándo el palacio Sándor en Budapest fu...</td>\n",
       "      <td>El palais Sândor (también conocido como Palais...</td>\n",
       "      <td>Iker/Llama-3-Instruct-Neurona-8b-v2</td>\n",
       "      <td>[{'start': 3, 'prob': 0.33333333330000003, 'en...</td>\n",
       "      <td>[[40, 73], [183, 196], [203, 206], [226, 243],...</td>\n",
       "    </tr>\n",
       "    <tr>\n",
       "      <th>6</th>\n",
       "      <td>11</td>\n",
       "      <td>ES</td>\n",
       "      <td>¿Qué país logró clasificar en último lugar a l...</td>\n",
       "      <td>El país que logra clasificarse en el último pu...</td>\n",
       "      <td>Iker/Llama-3-Instruct-Neurona-8b-v2</td>\n",
       "      <td>[{'start': 86, 'prob': 0.6666666667000001, 'en...</td>\n",
       "      <td>[[86, 115], [120, 129], [149, 161], [174, 180]...</td>\n",
       "    </tr>\n",
       "    <tr>\n",
       "      <th>7</th>\n",
       "      <td>12</td>\n",
       "      <td>ES</td>\n",
       "      <td>¿Qué características presentan los miembros de...</td>\n",
       "      <td>Los miudades de Cladotholus, Cladoscypha y Cla...</td>\n",
       "      <td>Iker/Llama-3-Instruct-Neurona-8b-v2</td>\n",
       "      <td>[{'start': 4, 'prob': 1.0, 'end': 12}, {'start...</td>\n",
       "      <td>[[4, 12], [16, 27], [29, 40], [43, 54], [100, ...</td>\n",
       "    </tr>\n",
       "  </tbody>\n",
       "</table>\n",
       "</div>"
      ],
      "text/plain": [
       "   id lang                                        model_input  \\\n",
       "0   1   EN  When was the restoration of the Sándor Palace ...   \n",
       "1   3   EN  Did the Scotland team debut in the UEFA Euro 1...   \n",
       "2   4   FR  Contre quelles équipes l'Azerbaïdjan a-t-il ét...   \n",
       "3   8   FR     8437 Bernicla est-il un objet transneptunien ?   \n",
       "4   9   EN                Over which state did Xiong Ai rule?   \n",
       "5  10   ES  ¿Desde cuándo el palacio Sándor en Budapest fu...   \n",
       "6  11   ES  ¿Qué país logró clasificar en último lugar a l...   \n",
       "7  12   ES  ¿Qué características presentan los miembros de...   \n",
       "\n",
       "                                   model_output_text  \\\n",
       "0   The restoration of Sándor Palace, also known ...   \n",
       "1   Yes, Scotland made their debut in the UEFA Eu...   \n",
       "2   L'équipe d'Azerbaïdjan n'a pas participé à l'...   \n",
       "3  8437 Bernicla est-il un objet transneptunien?\\...   \n",
       "4   Xiong Ai was a Chinese warlord who lived duri...   \n",
       "5  El palais Sândor (también conocido como Palais...   \n",
       "6  El país que logra clasificarse en el último pu...   \n",
       "7  Los miudades de Cladotholus, Cladoscypha y Cla...   \n",
       "\n",
       "                                 model_id  \\\n",
       "0  TheBloke/Mistral-7B-Instruct-v0.2-GGUF   \n",
       "1  TheBloke/Mistral-7B-Instruct-v0.2-GGUF   \n",
       "2  TheBloke/Mistral-7B-Instruct-v0.2-GGUF   \n",
       "3     meta-llama/Meta-Llama-3-8B-Instruct   \n",
       "4  TheBloke/Mistral-7B-Instruct-v0.2-GGUF   \n",
       "5     Iker/Llama-3-Instruct-Neurona-8b-v2   \n",
       "6     Iker/Llama-3-Instruct-Neurona-8b-v2   \n",
       "7     Iker/Llama-3-Instruct-Neurona-8b-v2   \n",
       "\n",
       "                                         soft_labels  \\\n",
       "0  [{'start': 33, 'prob': 0.33333333330000003, 'e...   \n",
       "1  [{'start': 1, 'prob': 0.6666666667000001, 'end...   \n",
       "2  [{'start': 1, 'prob': 0.33333333330000003, 'en...   \n",
       "3  [{'start': 46, 'prob': 0.33333333330000003, 'e...   \n",
       "4  [{'start': 10, 'prob': 0.33333333330000003, 'e...   \n",
       "5  [{'start': 3, 'prob': 0.33333333330000003, 'en...   \n",
       "6  [{'start': 86, 'prob': 0.6666666667000001, 'en...   \n",
       "7  [{'start': 4, 'prob': 1.0, 'end': 12}, {'start...   \n",
       "\n",
       "                                         hard_labels  \n",
       "0  [[53, 64], [151, 164], [165, 210], [211, 225],...  \n",
       "1  [[1, 4], [49, 53], [87, 103], [232, 246], [262...  \n",
       "2                  [[24, 55], [60, 162], [213, 320]]  \n",
       "3  [[71, 86], [90, 94], [184, 193], [269, 437], [...  \n",
       "4  [[24, 31], [42, 48], [75, 87], [92, 123], [140...  \n",
       "5  [[40, 73], [183, 196], [203, 206], [226, 243],...  \n",
       "6  [[86, 115], [120, 129], [149, 161], [174, 180]...  \n",
       "7  [[4, 12], [16, 27], [29, 40], [43, 54], [100, ...  "
      ]
     },
     "execution_count": 3,
     "metadata": {},
     "output_type": "execute_result"
    }
   ],
   "source": [
    "sample = pd.read_json('../datasets/sample/sample_set.v1.json', lines = True)\n",
    "sample"
   ]
  },
  {
   "cell_type": "code",
   "execution_count": 4,
   "id": "3bdffeca-23c0-40fb-b212-1c2b2ec66d43",
   "metadata": {},
   "outputs": [
    {
     "data": {
      "text/plain": [
       "\" The restoration of Sándor Palace, also known as the Buda Castle, was completed in several phases. The most significant restoration took place between 1950 and 1961 under the supervision of Hungarian architects Győző Csaplár and Lajos Késmárki. However, it's important to note that various parts of the palace continued to be restored and renovated throughout the decades following this period. Therefore, it is not accurate to pinpoint an exact completion date for the entire restoration project.\""
      ]
     },
     "execution_count": 4,
     "metadata": {},
     "output_type": "execute_result"
    }
   ],
   "source": [
    "sample.model_output_text.iloc[0]"
   ]
  },
  {
   "cell_type": "code",
   "execution_count": null,
   "id": "9a98831d-d08b-4905-876c-e128803d0066",
   "metadata": {},
   "outputs": [],
   "source": []
  }
 ],
 "metadata": {
  "kernelspec": {
   "display_name": "Python 3 (ipykernel)",
   "language": "python",
   "name": "python3"
  },
  "language_info": {
   "codemirror_mode": {
    "name": "ipython",
    "version": 3
   },
   "file_extension": ".py",
   "mimetype": "text/x-python",
   "name": "python",
   "nbconvert_exporter": "python",
   "pygments_lexer": "ipython3",
   "version": "3.11.8"
  }
 },
 "nbformat": 4,
 "nbformat_minor": 5
}
