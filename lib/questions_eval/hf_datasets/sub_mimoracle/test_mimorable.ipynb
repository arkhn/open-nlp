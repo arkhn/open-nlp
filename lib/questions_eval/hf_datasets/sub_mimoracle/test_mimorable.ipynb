{
 "cells": [
  {
   "cell_type": "code",
   "execution_count": null,
   "id": "7be178ef-c56b-4cad-b123-fac4199b7318",
   "metadata": {},
   "outputs": [],
   "source": [
    "import hydra\n",
    "import pandas as pd\n",
    "import wandb\n",
    "import itertools\n",
    "from datasets import load_dataset\n",
    "from dotenv import load_dotenv\n",
    "from langchain.output_parsers import OutputFixingParser\n",
    "from langchain.schema import StrOutputParser\n",
    "from langchain_core.output_parsers import JsonOutputParser\n",
    "from langchain_core.prompts import ChatPromptTemplate\n",
    "from omegaconf import DictConfig, OmegaConf\n",
    "from pandas import json_normalize\n",
    "from tqdm import tqdm"
   ]
  },
  {
   "cell_type": "code",
   "execution_count": null,
   "id": "a5ae5f6f-cad7-4aad-a6ff-a5ae841ccf38",
   "metadata": {},
   "outputs": [],
   "source": [
    "# from huggingface_hub import notebook_login\n",
    "# notebook_login()"
   ]
  },
  {
   "cell_type": "markdown",
   "id": "ab12cc88-988c-47b3-9134-44a94f3ec53c",
   "metadata": {},
   "source": [
    "**ISSUES**: Error in splitting titles and sections -> REGEX?\n",
    "   - Mix between different sections and title\n",
    "   - Wrong `section_title value`\n",
    "   - `section_content` overlaps information of other sections (e.g., check date columns)\n",
    "   - Duplication in `section_title` in one document even same following up position in documents\n",
    "\n",
    "**NOTES**\n",
    "1. Tested sections: `allergies|history of present illness|past medical history|discharge medications|social history|medications on admission`"
   ]
  },
  {
   "cell_type": "code",
   "execution_count": null,
   "id": "3075a63d-5bc0-4344-b27a-3f6a6c2ea25a",
   "metadata": {},
   "outputs": [],
   "source": [
    "df = load_dataset(\"bio-datasets/mimoracle\", split=\"train\").to_pandas()\n",
    "df.head()"
   ]
  },
  {
   "cell_type": "code",
   "execution_count": null,
   "id": "51cac6ac-5785-4610-9db0-39f8d98e1d04",
   "metadata": {},
   "outputs": [],
   "source": [
    "def _preprocess(text: str) -> str:\n",
    "    text = text.split(\"\\n\")[-1].lower()\n",
    "    return text\n",
    "\n",
    "\n",
    "def _resample(df: pd.DataFrame, n_sample: int, n_section: int) -> pd.DataFrame:\n",
    "    patterns = \"allergies|history of present illness|past medical history|discharge medications|social history|medications on admission\"\n",
    "    df[\"section_title\"] = [_preprocess(x) for x in df[\"section_title\"]]\n",
    "    df = df[df.section_title.str.contains(patterns)]\n",
    "    df = df.groupby(\"section_title\").filter(lambda x: len(x) > n_sample)\n",
    "    df = df.groupby(\"document_id\").filter(lambda x: len(x) == n_section)\n",
    "    return df"
   ]
  },
  {
   "cell_type": "code",
   "execution_count": null,
   "id": "18f75eed-19d5-4a51-bb11-2e9d650f3b35",
   "metadata": {},
   "outputs": [],
   "source": [
    "sample_df = _resample(df, 2, 6)\n",
    "sample_df.head()"
   ]
  },
  {
   "cell_type": "code",
   "execution_count": null,
   "id": "a03b6541-ebe0-4308-af9c-14ac4ccbafb7",
   "metadata": {},
   "outputs": [],
   "source": [
    "sample_df.to_csv(\"mimoracle_train.csv\", index=False)"
   ]
  },
  {
   "cell_type": "code",
   "execution_count": null,
   "id": "733fcb66",
   "metadata": {},
   "outputs": [],
   "source": [
    "df = load_dataset(\"bio-datasets/mimoracle\", split=\"test\").to_pandas()\n",
    "sample_df = _resample(df, 2, 6)\n",
    "sample_df.to_csv(\"mimoracle_test.csv\", index=False)"
   ]
  }
 ],
 "metadata": {
  "kernelspec": {
   "display_name": "Python 3 (ipykernel)",
   "language": "python",
   "name": "python3"
  },
  "language_info": {
   "codemirror_mode": {
    "name": "ipython",
    "version": 3
   },
   "file_extension": ".py",
   "mimetype": "text/x-python",
   "name": "python",
   "nbconvert_exporter": "python",
   "pygments_lexer": "ipython3",
   "version": "3.11.8"
  }
 },
 "nbformat": 4,
 "nbformat_minor": 5
}
